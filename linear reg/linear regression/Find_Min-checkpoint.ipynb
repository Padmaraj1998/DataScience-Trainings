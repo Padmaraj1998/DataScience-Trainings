{
 "cells": [
  {
   "cell_type": "code",
   "execution_count": 141,
   "id": "b55af22c",
   "metadata": {},
   "outputs": [],
   "source": [
    "import pandas as pd\n",
    "import random as rd"
   ]
  },
  {
   "cell_type": "code",
   "execution_count": 142,
   "id": "09ba5e2f",
   "metadata": {},
   "outputs": [],
   "source": [
    "new=pd.read_excel(r\"C:\\Users\\Vijay\\Downloads\\pddataset.xlsx\")"
   ]
  },
  {
   "cell_type": "code",
   "execution_count": 143,
   "id": "e78378f8",
   "metadata": {},
   "outputs": [
    {
     "data": {
      "text/html": [
       "<div>\n",
       "<style scoped>\n",
       "    .dataframe tbody tr th:only-of-type {\n",
       "        vertical-align: middle;\n",
       "    }\n",
       "\n",
       "    .dataframe tbody tr th {\n",
       "        vertical-align: top;\n",
       "    }\n",
       "\n",
       "    .dataframe thead th {\n",
       "        text-align: right;\n",
       "    }\n",
       "</style>\n",
       "<table border=\"1\" class=\"dataframe\">\n",
       "  <thead>\n",
       "    <tr style=\"text-align: right;\">\n",
       "      <th></th>\n",
       "      <th>Name</th>\n",
       "      <th>Sex</th>\n",
       "      <th>Age</th>\n",
       "      <th>Height</th>\n",
       "      <th>Weight</th>\n",
       "      <th>Team</th>\n",
       "      <th>Games</th>\n",
       "      <th>Season</th>\n",
       "      <th>Event</th>\n",
       "      <th>Medal</th>\n",
       "    </tr>\n",
       "  </thead>\n",
       "  <tbody>\n",
       "    <tr>\n",
       "      <th>0</th>\n",
       "      <td>A Dijiang</td>\n",
       "      <td>M</td>\n",
       "      <td>24.0</td>\n",
       "      <td>180.0</td>\n",
       "      <td>80.0</td>\n",
       "      <td>China</td>\n",
       "      <td>1992 Summer</td>\n",
       "      <td>Summer</td>\n",
       "      <td>Basketball Men's Basketball</td>\n",
       "      <td>NaN</td>\n",
       "    </tr>\n",
       "    <tr>\n",
       "      <th>1</th>\n",
       "      <td>A Lamusi</td>\n",
       "      <td>M</td>\n",
       "      <td>23.0</td>\n",
       "      <td>170.0</td>\n",
       "      <td>60.0</td>\n",
       "      <td>China</td>\n",
       "      <td>2012 Summer</td>\n",
       "      <td>Summer</td>\n",
       "      <td>Judo Men's Extra-Lightweight</td>\n",
       "      <td>NaN</td>\n",
       "    </tr>\n",
       "    <tr>\n",
       "      <th>2</th>\n",
       "      <td>Gunnar Nielsen Aaby</td>\n",
       "      <td>M</td>\n",
       "      <td>24.0</td>\n",
       "      <td>NaN</td>\n",
       "      <td>NaN</td>\n",
       "      <td>Denmark</td>\n",
       "      <td>1920 Summer</td>\n",
       "      <td>Summer</td>\n",
       "      <td>Football Men's Football</td>\n",
       "      <td>NaN</td>\n",
       "    </tr>\n",
       "    <tr>\n",
       "      <th>3</th>\n",
       "      <td>Edgar Lindenau Aabye</td>\n",
       "      <td>M</td>\n",
       "      <td>34.0</td>\n",
       "      <td>NaN</td>\n",
       "      <td>NaN</td>\n",
       "      <td>Denmark/Sweden</td>\n",
       "      <td>1900 Summer</td>\n",
       "      <td>Summer</td>\n",
       "      <td>Tug-Of-War Men's Tug-Of-War</td>\n",
       "      <td>Gold</td>\n",
       "    </tr>\n",
       "    <tr>\n",
       "      <th>4</th>\n",
       "      <td>Christine Jacoba Aaftink</td>\n",
       "      <td>F</td>\n",
       "      <td>21.0</td>\n",
       "      <td>185.0</td>\n",
       "      <td>82.0</td>\n",
       "      <td>Netherlands</td>\n",
       "      <td>1988 Winter</td>\n",
       "      <td>Winter</td>\n",
       "      <td>Speed Skating Women's 500 metres</td>\n",
       "      <td>NaN</td>\n",
       "    </tr>\n",
       "    <tr>\n",
       "      <th>...</th>\n",
       "      <td>...</td>\n",
       "      <td>...</td>\n",
       "      <td>...</td>\n",
       "      <td>...</td>\n",
       "      <td>...</td>\n",
       "      <td>...</td>\n",
       "      <td>...</td>\n",
       "      <td>...</td>\n",
       "      <td>...</td>\n",
       "      <td>...</td>\n",
       "    </tr>\n",
       "    <tr>\n",
       "      <th>995</th>\n",
       "      <td>Thomas Abratis</td>\n",
       "      <td>M</td>\n",
       "      <td>26.0</td>\n",
       "      <td>184.0</td>\n",
       "      <td>73.0</td>\n",
       "      <td>Germany</td>\n",
       "      <td>1994 Winter</td>\n",
       "      <td>Winter</td>\n",
       "      <td>Nordic Combined Men's Team</td>\n",
       "      <td>NaN</td>\n",
       "    </tr>\n",
       "    <tr>\n",
       "      <th>996</th>\n",
       "      <td>Thomas Abratis</td>\n",
       "      <td>M</td>\n",
       "      <td>26.0</td>\n",
       "      <td>184.0</td>\n",
       "      <td>73.0</td>\n",
       "      <td>Germany</td>\n",
       "      <td>1994 Winter</td>\n",
       "      <td>Winter</td>\n",
       "      <td>Nordic Combined Men's Individual</td>\n",
       "      <td>NaN</td>\n",
       "    </tr>\n",
       "    <tr>\n",
       "      <th>997</th>\n",
       "      <td>Pawe Abratkiewicz</td>\n",
       "      <td>M</td>\n",
       "      <td>21.0</td>\n",
       "      <td>183.0</td>\n",
       "      <td>84.0</td>\n",
       "      <td>Poland</td>\n",
       "      <td>1992 Winter</td>\n",
       "      <td>Winter</td>\n",
       "      <td>Speed Skating Men's 500 metres</td>\n",
       "      <td>NaN</td>\n",
       "    </tr>\n",
       "    <tr>\n",
       "      <th>998</th>\n",
       "      <td>Pawe Abratkiewicz</td>\n",
       "      <td>M</td>\n",
       "      <td>21.0</td>\n",
       "      <td>183.0</td>\n",
       "      <td>84.0</td>\n",
       "      <td>Poland</td>\n",
       "      <td>1992 Winter</td>\n",
       "      <td>Winter</td>\n",
       "      <td>Speed Skating Men's 1,000 metres</td>\n",
       "      <td>NaN</td>\n",
       "    </tr>\n",
       "    <tr>\n",
       "      <th>999</th>\n",
       "      <td>Pawe Abratkiewicz</td>\n",
       "      <td>M</td>\n",
       "      <td>27.0</td>\n",
       "      <td>183.0</td>\n",
       "      <td>84.0</td>\n",
       "      <td>Poland</td>\n",
       "      <td>1998 Winter</td>\n",
       "      <td>Winter</td>\n",
       "      <td>Speed Skating Men's 500 metres</td>\n",
       "      <td>NaN</td>\n",
       "    </tr>\n",
       "  </tbody>\n",
       "</table>\n",
       "<p>1000 rows × 10 columns</p>\n",
       "</div>"
      ],
      "text/plain": [
       "                         Name Sex   Age  Height  Weight            Team  \\\n",
       "0                   A Dijiang   M  24.0   180.0    80.0           China   \n",
       "1                    A Lamusi   M  23.0   170.0    60.0           China   \n",
       "2         Gunnar Nielsen Aaby   M  24.0     NaN     NaN         Denmark   \n",
       "3        Edgar Lindenau Aabye   M  34.0     NaN     NaN  Denmark/Sweden   \n",
       "4    Christine Jacoba Aaftink   F  21.0   185.0    82.0     Netherlands   \n",
       "..                        ...  ..   ...     ...     ...             ...   \n",
       "995            Thomas Abratis   M  26.0   184.0    73.0         Germany   \n",
       "996            Thomas Abratis   M  26.0   184.0    73.0         Germany   \n",
       "997         Pawe Abratkiewicz   M  21.0   183.0    84.0          Poland   \n",
       "998         Pawe Abratkiewicz   M  21.0   183.0    84.0          Poland   \n",
       "999         Pawe Abratkiewicz   M  27.0   183.0    84.0          Poland   \n",
       "\n",
       "           Games  Season                             Event Medal  \n",
       "0    1992 Summer  Summer       Basketball Men's Basketball   NaN  \n",
       "1    2012 Summer  Summer      Judo Men's Extra-Lightweight   NaN  \n",
       "2    1920 Summer  Summer           Football Men's Football   NaN  \n",
       "3    1900 Summer  Summer       Tug-Of-War Men's Tug-Of-War  Gold  \n",
       "4    1988 Winter  Winter  Speed Skating Women's 500 metres   NaN  \n",
       "..           ...     ...                               ...   ...  \n",
       "995  1994 Winter  Winter        Nordic Combined Men's Team   NaN  \n",
       "996  1994 Winter  Winter  Nordic Combined Men's Individual   NaN  \n",
       "997  1992 Winter  Winter    Speed Skating Men's 500 metres   NaN  \n",
       "998  1992 Winter  Winter  Speed Skating Men's 1,000 metres   NaN  \n",
       "999  1998 Winter  Winter    Speed Skating Men's 500 metres   NaN  \n",
       "\n",
       "[1000 rows x 10 columns]"
      ]
     },
     "execution_count": 143,
     "metadata": {},
     "output_type": "execute_result"
    }
   ],
   "source": [
    "new"
   ]
  },
  {
   "cell_type": "code",
   "execution_count": 144,
   "id": "54b057ad",
   "metadata": {},
   "outputs": [
    {
     "data": {
      "text/plain": [
       "(1000, 10)"
      ]
     },
     "execution_count": 144,
     "metadata": {},
     "output_type": "execute_result"
    }
   ],
   "source": [
    "new.shape"
   ]
  },
  {
   "cell_type": "code",
   "execution_count": 145,
   "id": "6910f46c",
   "metadata": {},
   "outputs": [
    {
     "data": {
      "text/plain": [
       "Gold      45\n",
       "Bronze    34\n",
       "Silver    33\n",
       "Name: Medal, dtype: int64"
      ]
     },
     "execution_count": 145,
     "metadata": {},
     "output_type": "execute_result"
    }
   ],
   "source": [
    "new[\"Medal\"].value_counts()"
   ]
  },
  {
   "cell_type": "code",
   "execution_count": 53,
   "id": "356f100b",
   "metadata": {},
   "outputs": [
    {
     "data": {
      "text/html": [
       "<div>\n",
       "<style scoped>\n",
       "    .dataframe tbody tr th:only-of-type {\n",
       "        vertical-align: middle;\n",
       "    }\n",
       "\n",
       "    .dataframe tbody tr th {\n",
       "        vertical-align: top;\n",
       "    }\n",
       "\n",
       "    .dataframe thead th {\n",
       "        text-align: right;\n",
       "    }\n",
       "</style>\n",
       "<table border=\"1\" class=\"dataframe\">\n",
       "  <thead>\n",
       "    <tr style=\"text-align: right;\">\n",
       "      <th></th>\n",
       "      <th>Age</th>\n",
       "      <th>Height</th>\n",
       "      <th>Weight</th>\n",
       "    </tr>\n",
       "  </thead>\n",
       "  <tbody>\n",
       "    <tr>\n",
       "      <th>count</th>\n",
       "      <td>936.00000</td>\n",
       "      <td>753.000000</td>\n",
       "      <td>756.000000</td>\n",
       "    </tr>\n",
       "    <tr>\n",
       "      <th>mean</th>\n",
       "      <td>25.53312</td>\n",
       "      <td>175.912351</td>\n",
       "      <td>71.814153</td>\n",
       "    </tr>\n",
       "    <tr>\n",
       "      <th>std</th>\n",
       "      <td>5.88381</td>\n",
       "      <td>9.930223</td>\n",
       "      <td>14.001236</td>\n",
       "    </tr>\n",
       "    <tr>\n",
       "      <th>min</th>\n",
       "      <td>14.00000</td>\n",
       "      <td>147.000000</td>\n",
       "      <td>40.000000</td>\n",
       "    </tr>\n",
       "    <tr>\n",
       "      <th>25%</th>\n",
       "      <td>22.00000</td>\n",
       "      <td>169.000000</td>\n",
       "      <td>62.000000</td>\n",
       "    </tr>\n",
       "    <tr>\n",
       "      <th>50%</th>\n",
       "      <td>24.00000</td>\n",
       "      <td>176.000000</td>\n",
       "      <td>72.000000</td>\n",
       "    </tr>\n",
       "    <tr>\n",
       "      <th>75%</th>\n",
       "      <td>28.00000</td>\n",
       "      <td>183.000000</td>\n",
       "      <td>80.000000</td>\n",
       "    </tr>\n",
       "    <tr>\n",
       "      <th>max</th>\n",
       "      <td>57.00000</td>\n",
       "      <td>210.000000</td>\n",
       "      <td>130.000000</td>\n",
       "    </tr>\n",
       "  </tbody>\n",
       "</table>\n",
       "</div>"
      ],
      "text/plain": [
       "             Age      Height      Weight\n",
       "count  936.00000  753.000000  756.000000\n",
       "mean    25.53312  175.912351   71.814153\n",
       "std      5.88381    9.930223   14.001236\n",
       "min     14.00000  147.000000   40.000000\n",
       "25%     22.00000  169.000000   62.000000\n",
       "50%     24.00000  176.000000   72.000000\n",
       "75%     28.00000  183.000000   80.000000\n",
       "max     57.00000  210.000000  130.000000"
      ]
     },
     "execution_count": 53,
     "metadata": {},
     "output_type": "execute_result"
    }
   ],
   "source": [
    "new.describe()"
   ]
  },
  {
   "cell_type": "code",
   "execution_count": null,
   "id": "7b33edab",
   "metadata": {},
   "outputs": [],
   "source": []
  },
  {
   "cell_type": "code",
   "execution_count": 146,
   "id": "e979ae95",
   "metadata": {},
   "outputs": [
    {
     "name": "stdout",
     "output_type": "stream",
     "text": [
      "<class 'pandas.core.frame.DataFrame'>\n",
      "RangeIndex: 1000 entries, 0 to 999\n",
      "Data columns (total 10 columns):\n",
      " #   Column  Non-Null Count  Dtype  \n",
      "---  ------  --------------  -----  \n",
      " 0   Name    1000 non-null   object \n",
      " 1   Sex     1000 non-null   object \n",
      " 2   Age     936 non-null    float64\n",
      " 3   Height  753 non-null    float64\n",
      " 4   Weight  756 non-null    float64\n",
      " 5   Team    1000 non-null   object \n",
      " 6   Games   1000 non-null   object \n",
      " 7   Season  1000 non-null   object \n",
      " 8   Event   1000 non-null   object \n",
      " 9   Medal   112 non-null    object \n",
      "dtypes: float64(3), object(7)\n",
      "memory usage: 78.2+ KB\n"
     ]
    }
   ],
   "source": [
    "new.info()"
   ]
  },
  {
   "cell_type": "code",
   "execution_count": 147,
   "id": "a93a6522",
   "metadata": {
    "scrolled": true
   },
   "outputs": [
    {
     "data": {
      "text/plain": [
       "Name        0\n",
       "Sex         0\n",
       "Age        64\n",
       "Height    247\n",
       "Weight    244\n",
       "Team        0\n",
       "Games       0\n",
       "Season      0\n",
       "Event       0\n",
       "Medal     888\n",
       "dtype: int64"
      ]
     },
     "execution_count": 147,
     "metadata": {},
     "output_type": "execute_result"
    }
   ],
   "source": [
    "new.isnull().sum()"
   ]
  },
  {
   "cell_type": "code",
   "execution_count": 148,
   "id": "73360361",
   "metadata": {},
   "outputs": [
    {
     "data": {
      "text/plain": [
       "'Gold'"
      ]
     },
     "execution_count": 148,
     "metadata": {},
     "output_type": "execute_result"
    }
   ],
   "source": [
    "new[\"Medal\"].mode()[0]"
   ]
  },
  {
   "cell_type": "code",
   "execution_count": 56,
   "id": "f5532e02",
   "metadata": {},
   "outputs": [],
   "source": [
    "new[\"Age\"]=new[\"Age\"].fillna((new[\"Age\"]).mean())\n",
    "new[\"Height\"]=new[\"Height\"].fillna(new[\"Height\"].mean())\n",
    "new[\"Weight\"]=new[\"Weight\"].fillna(new[\"Weight\"].mean())\n",
    "new[\"Medal\"]=new[\"Medal\"].fillna(\"loss\")\n"
   ]
  },
  {
   "cell_type": "code",
   "execution_count": 57,
   "id": "963fcaad",
   "metadata": {},
   "outputs": [],
   "source": [
    "from sklearn import preprocessing"
   ]
  },
  {
   "cell_type": "code",
   "execution_count": 58,
   "id": "c7b9616d",
   "metadata": {},
   "outputs": [],
   "source": [
    "cols=[\"Sex\",\"Team\",\"Games\",\"Season\",\"Event\",\"Medal\"]\n",
    "le=preprocessing.LabelEncoder()\n",
    "new[cols]=new[cols].apply(le.fit_transform)"
   ]
  },
  {
   "cell_type": "code",
   "execution_count": 59,
   "id": "7e706b95",
   "metadata": {},
   "outputs": [
    {
     "data": {
      "text/html": [
       "<div>\n",
       "<style scoped>\n",
       "    .dataframe tbody tr th:only-of-type {\n",
       "        vertical-align: middle;\n",
       "    }\n",
       "\n",
       "    .dataframe tbody tr th {\n",
       "        vertical-align: top;\n",
       "    }\n",
       "\n",
       "    .dataframe thead th {\n",
       "        text-align: right;\n",
       "    }\n",
       "</style>\n",
       "<table border=\"1\" class=\"dataframe\">\n",
       "  <thead>\n",
       "    <tr style=\"text-align: right;\">\n",
       "      <th></th>\n",
       "      <th>Name</th>\n",
       "      <th>Sex</th>\n",
       "      <th>Age</th>\n",
       "      <th>Height</th>\n",
       "      <th>Weight</th>\n",
       "      <th>Team</th>\n",
       "      <th>Games</th>\n",
       "      <th>Season</th>\n",
       "      <th>Event</th>\n",
       "      <th>Medal</th>\n",
       "    </tr>\n",
       "  </thead>\n",
       "  <tbody>\n",
       "    <tr>\n",
       "      <th>0</th>\n",
       "      <td>A Dijiang</td>\n",
       "      <td>1</td>\n",
       "      <td>24.0</td>\n",
       "      <td>180.000000</td>\n",
       "      <td>80.000000</td>\n",
       "      <td>17</td>\n",
       "      <td>32</td>\n",
       "      <td>0</td>\n",
       "      <td>55</td>\n",
       "      <td>3</td>\n",
       "    </tr>\n",
       "    <tr>\n",
       "      <th>1</th>\n",
       "      <td>A Lamusi</td>\n",
       "      <td>1</td>\n",
       "      <td>23.0</td>\n",
       "      <td>170.000000</td>\n",
       "      <td>60.000000</td>\n",
       "      <td>17</td>\n",
       "      <td>43</td>\n",
       "      <td>0</td>\n",
       "      <td>145</td>\n",
       "      <td>3</td>\n",
       "    </tr>\n",
       "    <tr>\n",
       "      <th>2</th>\n",
       "      <td>Gunnar Nielsen Aaby</td>\n",
       "      <td>1</td>\n",
       "      <td>24.0</td>\n",
       "      <td>175.912351</td>\n",
       "      <td>71.814153</td>\n",
       "      <td>24</td>\n",
       "      <td>4</td>\n",
       "      <td>0</td>\n",
       "      <td>120</td>\n",
       "      <td>3</td>\n",
       "    </tr>\n",
       "    <tr>\n",
       "      <th>3</th>\n",
       "      <td>Edgar Lindenau Aabye</td>\n",
       "      <td>1</td>\n",
       "      <td>34.0</td>\n",
       "      <td>175.912351</td>\n",
       "      <td>71.814153</td>\n",
       "      <td>25</td>\n",
       "      <td>0</td>\n",
       "      <td>0</td>\n",
       "      <td>236</td>\n",
       "      <td>1</td>\n",
       "    </tr>\n",
       "    <tr>\n",
       "      <th>4</th>\n",
       "      <td>Christine Jacoba Aaftink</td>\n",
       "      <td>0</td>\n",
       "      <td>21.0</td>\n",
       "      <td>185.000000</td>\n",
       "      <td>82.000000</td>\n",
       "      <td>66</td>\n",
       "      <td>31</td>\n",
       "      <td>1</td>\n",
       "      <td>201</td>\n",
       "      <td>3</td>\n",
       "    </tr>\n",
       "    <tr>\n",
       "      <th>...</th>\n",
       "      <td>...</td>\n",
       "      <td>...</td>\n",
       "      <td>...</td>\n",
       "      <td>...</td>\n",
       "      <td>...</td>\n",
       "      <td>...</td>\n",
       "      <td>...</td>\n",
       "      <td>...</td>\n",
       "      <td>...</td>\n",
       "      <td>...</td>\n",
       "    </tr>\n",
       "    <tr>\n",
       "      <th>995</th>\n",
       "      <td>Thomas Abratis</td>\n",
       "      <td>1</td>\n",
       "      <td>26.0</td>\n",
       "      <td>184.000000</td>\n",
       "      <td>73.000000</td>\n",
       "      <td>37</td>\n",
       "      <td>34</td>\n",
       "      <td>1</td>\n",
       "      <td>155</td>\n",
       "      <td>3</td>\n",
       "    </tr>\n",
       "    <tr>\n",
       "      <th>996</th>\n",
       "      <td>Thomas Abratis</td>\n",
       "      <td>1</td>\n",
       "      <td>26.0</td>\n",
       "      <td>184.000000</td>\n",
       "      <td>73.000000</td>\n",
       "      <td>37</td>\n",
       "      <td>34</td>\n",
       "      <td>1</td>\n",
       "      <td>154</td>\n",
       "      <td>3</td>\n",
       "    </tr>\n",
       "    <tr>\n",
       "      <th>997</th>\n",
       "      <td>Pawe Abratkiewicz</td>\n",
       "      <td>1</td>\n",
       "      <td>21.0</td>\n",
       "      <td>183.000000</td>\n",
       "      <td>84.000000</td>\n",
       "      <td>77</td>\n",
       "      <td>33</td>\n",
       "      <td>1</td>\n",
       "      <td>198</td>\n",
       "      <td>3</td>\n",
       "    </tr>\n",
       "    <tr>\n",
       "      <th>998</th>\n",
       "      <td>Pawe Abratkiewicz</td>\n",
       "      <td>1</td>\n",
       "      <td>21.0</td>\n",
       "      <td>183.000000</td>\n",
       "      <td>84.000000</td>\n",
       "      <td>77</td>\n",
       "      <td>33</td>\n",
       "      <td>1</td>\n",
       "      <td>194</td>\n",
       "      <td>3</td>\n",
       "    </tr>\n",
       "    <tr>\n",
       "      <th>999</th>\n",
       "      <td>Pawe Abratkiewicz</td>\n",
       "      <td>1</td>\n",
       "      <td>27.0</td>\n",
       "      <td>183.000000</td>\n",
       "      <td>84.000000</td>\n",
       "      <td>77</td>\n",
       "      <td>36</td>\n",
       "      <td>1</td>\n",
       "      <td>198</td>\n",
       "      <td>3</td>\n",
       "    </tr>\n",
       "  </tbody>\n",
       "</table>\n",
       "<p>1000 rows × 10 columns</p>\n",
       "</div>"
      ],
      "text/plain": [
       "                         Name  Sex   Age      Height     Weight  Team  Games  \\\n",
       "0                   A Dijiang    1  24.0  180.000000  80.000000    17     32   \n",
       "1                    A Lamusi    1  23.0  170.000000  60.000000    17     43   \n",
       "2         Gunnar Nielsen Aaby    1  24.0  175.912351  71.814153    24      4   \n",
       "3        Edgar Lindenau Aabye    1  34.0  175.912351  71.814153    25      0   \n",
       "4    Christine Jacoba Aaftink    0  21.0  185.000000  82.000000    66     31   \n",
       "..                        ...  ...   ...         ...        ...   ...    ...   \n",
       "995            Thomas Abratis    1  26.0  184.000000  73.000000    37     34   \n",
       "996            Thomas Abratis    1  26.0  184.000000  73.000000    37     34   \n",
       "997         Pawe Abratkiewicz    1  21.0  183.000000  84.000000    77     33   \n",
       "998         Pawe Abratkiewicz    1  21.0  183.000000  84.000000    77     33   \n",
       "999         Pawe Abratkiewicz    1  27.0  183.000000  84.000000    77     36   \n",
       "\n",
       "     Season  Event  Medal  \n",
       "0         0     55      3  \n",
       "1         0    145      3  \n",
       "2         0    120      3  \n",
       "3         0    236      1  \n",
       "4         1    201      3  \n",
       "..      ...    ...    ...  \n",
       "995       1    155      3  \n",
       "996       1    154      3  \n",
       "997       1    198      3  \n",
       "998       1    194      3  \n",
       "999       1    198      3  \n",
       "\n",
       "[1000 rows x 10 columns]"
      ]
     },
     "execution_count": 59,
     "metadata": {},
     "output_type": "execute_result"
    }
   ],
   "source": [
    "new"
   ]
  },
  {
   "cell_type": "code",
   "execution_count": 60,
   "id": "933476b5",
   "metadata": {},
   "outputs": [
    {
     "data": {
      "text/html": [
       "<div>\n",
       "<style scoped>\n",
       "    .dataframe tbody tr th:only-of-type {\n",
       "        vertical-align: middle;\n",
       "    }\n",
       "\n",
       "    .dataframe tbody tr th {\n",
       "        vertical-align: top;\n",
       "    }\n",
       "\n",
       "    .dataframe thead th {\n",
       "        text-align: right;\n",
       "    }\n",
       "</style>\n",
       "<table border=\"1\" class=\"dataframe\">\n",
       "  <thead>\n",
       "    <tr style=\"text-align: right;\">\n",
       "      <th></th>\n",
       "      <th>Sex</th>\n",
       "      <th>Age</th>\n",
       "      <th>Height</th>\n",
       "      <th>Weight</th>\n",
       "      <th>Team</th>\n",
       "      <th>Games</th>\n",
       "      <th>Season</th>\n",
       "      <th>Event</th>\n",
       "      <th>Medal</th>\n",
       "    </tr>\n",
       "  </thead>\n",
       "  <tbody>\n",
       "    <tr>\n",
       "      <th>Sex</th>\n",
       "      <td>1.000000</td>\n",
       "      <td>0.149258</td>\n",
       "      <td>0.427247</td>\n",
       "      <td>0.380564</td>\n",
       "      <td>0.018121</td>\n",
       "      <td>-0.241807</td>\n",
       "      <td>-0.028649</td>\n",
       "      <td>-0.069995</td>\n",
       "      <td>-0.021010</td>\n",
       "    </tr>\n",
       "    <tr>\n",
       "      <th>Age</th>\n",
       "      <td>0.149258</td>\n",
       "      <td>1.000000</td>\n",
       "      <td>0.129346</td>\n",
       "      <td>0.182501</td>\n",
       "      <td>0.029292</td>\n",
       "      <td>-0.072384</td>\n",
       "      <td>0.032437</td>\n",
       "      <td>0.056041</td>\n",
       "      <td>0.041696</td>\n",
       "    </tr>\n",
       "    <tr>\n",
       "      <th>Height</th>\n",
       "      <td>0.427247</td>\n",
       "      <td>0.129346</td>\n",
       "      <td>1.000000</td>\n",
       "      <td>0.711502</td>\n",
       "      <td>0.053690</td>\n",
       "      <td>-0.044370</td>\n",
       "      <td>0.087437</td>\n",
       "      <td>0.042149</td>\n",
       "      <td>-0.073545</td>\n",
       "    </tr>\n",
       "    <tr>\n",
       "      <th>Weight</th>\n",
       "      <td>0.380564</td>\n",
       "      <td>0.182501</td>\n",
       "      <td>0.711502</td>\n",
       "      <td>1.000000</td>\n",
       "      <td>0.043153</td>\n",
       "      <td>0.020115</td>\n",
       "      <td>0.139332</td>\n",
       "      <td>0.136174</td>\n",
       "      <td>-0.100329</td>\n",
       "    </tr>\n",
       "    <tr>\n",
       "      <th>Team</th>\n",
       "      <td>0.018121</td>\n",
       "      <td>0.029292</td>\n",
       "      <td>0.053690</td>\n",
       "      <td>0.043153</td>\n",
       "      <td>1.000000</td>\n",
       "      <td>-0.060056</td>\n",
       "      <td>0.182812</td>\n",
       "      <td>-0.085293</td>\n",
       "      <td>-0.077728</td>\n",
       "    </tr>\n",
       "    <tr>\n",
       "      <th>Games</th>\n",
       "      <td>-0.241807</td>\n",
       "      <td>-0.072384</td>\n",
       "      <td>-0.044370</td>\n",
       "      <td>0.020115</td>\n",
       "      <td>-0.060056</td>\n",
       "      <td>1.000000</td>\n",
       "      <td>0.156876</td>\n",
       "      <td>0.028729</td>\n",
       "      <td>0.050510</td>\n",
       "    </tr>\n",
       "    <tr>\n",
       "      <th>Season</th>\n",
       "      <td>-0.028649</td>\n",
       "      <td>0.032437</td>\n",
       "      <td>0.087437</td>\n",
       "      <td>0.139332</td>\n",
       "      <td>0.182812</td>\n",
       "      <td>0.156876</td>\n",
       "      <td>1.000000</td>\n",
       "      <td>-0.171853</td>\n",
       "      <td>-0.013035</td>\n",
       "    </tr>\n",
       "    <tr>\n",
       "      <th>Event</th>\n",
       "      <td>-0.069995</td>\n",
       "      <td>0.056041</td>\n",
       "      <td>0.042149</td>\n",
       "      <td>0.136174</td>\n",
       "      <td>-0.085293</td>\n",
       "      <td>0.028729</td>\n",
       "      <td>-0.171853</td>\n",
       "      <td>1.000000</td>\n",
       "      <td>-0.049874</td>\n",
       "    </tr>\n",
       "    <tr>\n",
       "      <th>Medal</th>\n",
       "      <td>-0.021010</td>\n",
       "      <td>0.041696</td>\n",
       "      <td>-0.073545</td>\n",
       "      <td>-0.100329</td>\n",
       "      <td>-0.077728</td>\n",
       "      <td>0.050510</td>\n",
       "      <td>-0.013035</td>\n",
       "      <td>-0.049874</td>\n",
       "      <td>1.000000</td>\n",
       "    </tr>\n",
       "  </tbody>\n",
       "</table>\n",
       "</div>"
      ],
      "text/plain": [
       "             Sex       Age    Height    Weight      Team     Games    Season  \\\n",
       "Sex     1.000000  0.149258  0.427247  0.380564  0.018121 -0.241807 -0.028649   \n",
       "Age     0.149258  1.000000  0.129346  0.182501  0.029292 -0.072384  0.032437   \n",
       "Height  0.427247  0.129346  1.000000  0.711502  0.053690 -0.044370  0.087437   \n",
       "Weight  0.380564  0.182501  0.711502  1.000000  0.043153  0.020115  0.139332   \n",
       "Team    0.018121  0.029292  0.053690  0.043153  1.000000 -0.060056  0.182812   \n",
       "Games  -0.241807 -0.072384 -0.044370  0.020115 -0.060056  1.000000  0.156876   \n",
       "Season -0.028649  0.032437  0.087437  0.139332  0.182812  0.156876  1.000000   \n",
       "Event  -0.069995  0.056041  0.042149  0.136174 -0.085293  0.028729 -0.171853   \n",
       "Medal  -0.021010  0.041696 -0.073545 -0.100329 -0.077728  0.050510 -0.013035   \n",
       "\n",
       "           Event     Medal  \n",
       "Sex    -0.069995 -0.021010  \n",
       "Age     0.056041  0.041696  \n",
       "Height  0.042149 -0.073545  \n",
       "Weight  0.136174 -0.100329  \n",
       "Team   -0.085293 -0.077728  \n",
       "Games   0.028729  0.050510  \n",
       "Season -0.171853 -0.013035  \n",
       "Event   1.000000 -0.049874  \n",
       "Medal  -0.049874  1.000000  "
      ]
     },
     "execution_count": 60,
     "metadata": {},
     "output_type": "execute_result"
    }
   ],
   "source": [
    "new.corr()"
   ]
  },
  {
   "cell_type": "code",
   "execution_count": 62,
   "id": "0a45f869",
   "metadata": {},
   "outputs": [],
   "source": [
    "import seaborn as sns"
   ]
  },
  {
   "cell_type": "code",
   "execution_count": 63,
   "id": "75dde896",
   "metadata": {},
   "outputs": [
    {
     "data": {
      "text/plain": [
       "<AxesSubplot:>"
      ]
     },
     "execution_count": 63,
     "metadata": {},
     "output_type": "execute_result"
    },
    {
     "data": {
      "image/png": "[encoded data removed]",
      "text/plain": [
       "<Figure size 432x288 with 2 Axes>"
      ]
     },
     "metadata": {
      "needs_background": "light"
     },
     "output_type": "display_data"
    }
   ],
   "source": [
    "sns.heatmap(new.corr(),annot=True)"
   ]
  },
  {
   "cell_type": "code",
   "execution_count": 64,
   "id": "0b5fcb8f",
   "metadata": {},
   "outputs": [],
   "source": [
    "x = new.iloc[:,[1,2,3,4,5,6,7,8]]\n",
    "y=new.iloc[:,[9]]"
   ]
  },
  {
   "cell_type": "code",
   "execution_count": 69,
   "id": "70db9e4a",
   "metadata": {},
   "outputs": [],
   "source": [
    "from sklearn.model_selection import train_test_split"
   ]
  },
  {
   "cell_type": "code",
   "execution_count": 83,
   "id": "0ab4d4b0",
   "metadata": {},
   "outputs": [],
   "source": [
    "X_train,X_test,Y_train,Y_test = train_test_split(x,y,test_size=0.2,random_state=42)"
   ]
  },
  {
   "cell_type": "code",
   "execution_count": 84,
   "id": "31bf3675",
   "metadata": {},
   "outputs": [
    {
     "data": {
      "text/plain": [
       "(800, 8)"
      ]
     },
     "execution_count": 84,
     "metadata": {},
     "output_type": "execute_result"
    }
   ],
   "source": [
    "X_train.shape"
   ]
  },
  {
   "cell_type": "code",
   "execution_count": 85,
   "id": "ebeedcbe",
   "metadata": {},
   "outputs": [
    {
     "data": {
      "text/plain": [
       "(200, 8)"
      ]
     },
     "execution_count": 85,
     "metadata": {},
     "output_type": "execute_result"
    }
   ],
   "source": [
    "X_test.shape"
   ]
  },
  {
   "cell_type": "code",
   "execution_count": 86,
   "id": "49938464",
   "metadata": {},
   "outputs": [
    {
     "data": {
      "text/plain": [
       "(800, 1)"
      ]
     },
     "execution_count": 86,
     "metadata": {},
     "output_type": "execute_result"
    }
   ],
   "source": [
    "Y_train.shape"
   ]
  },
  {
   "cell_type": "code",
   "execution_count": 87,
   "id": "502b1695",
   "metadata": {},
   "outputs": [
    {
     "data": {
      "text/plain": [
       "(200, 1)"
      ]
     },
     "execution_count": 87,
     "metadata": {},
     "output_type": "execute_result"
    }
   ],
   "source": [
    "Y_test.shape"
   ]
  },
  {
   "cell_type": "code",
   "execution_count": 103,
   "id": "ebca0bd7",
   "metadata": {},
   "outputs": [],
   "source": [
    "from sklearn.tree import DecisionTreeClassifier\n",
    "from sklearn.ensemble import RandomForestClassifier\n",
    "from sklearn.metrics import accuracy_score"
   ]
  },
  {
   "cell_type": "code",
   "execution_count": 109,
   "id": "c2d7ec76",
   "metadata": {},
   "outputs": [],
   "source": [
    "dt=DecisionTreeClassifier(random_state=0)\n",
    "dt.fit(X_train,Y_train)\n",
    "dt_pred=dt.predict(X_test)\n",
    "dt_acc=accuracy_score(Y_test,pred)"
   ]
  },
  {
   "cell_type": "code",
   "execution_count": 110,
   "id": "2394e5cc",
   "metadata": {},
   "outputs": [
    {
     "data": {
      "text/plain": [
       "0.805"
      ]
     },
     "execution_count": 110,
     "metadata": {},
     "output_type": "execute_result"
    }
   ],
   "source": [
    "acc"
   ]
  },
  {
   "cell_type": "code",
   "execution_count": 111,
   "id": "d3ff0a53",
   "metadata": {},
   "outputs": [],
   "source": [
    "our_prediction = pd.DataFrame({\"actual\":Y_test.squeeze(),\"predicted\":dt_pred.squeeze()})"
   ]
  },
  {
   "cell_type": "code",
   "execution_count": 112,
   "id": "64bb6887",
   "metadata": {},
   "outputs": [
    {
     "data": {
      "text/html": [
       "<div>\n",
       "<style scoped>\n",
       "    .dataframe tbody tr th:only-of-type {\n",
       "        vertical-align: middle;\n",
       "    }\n",
       "\n",
       "    .dataframe tbody tr th {\n",
       "        vertical-align: top;\n",
       "    }\n",
       "\n",
       "    .dataframe thead th {\n",
       "        text-align: right;\n",
       "    }\n",
       "</style>\n",
       "<table border=\"1\" class=\"dataframe\">\n",
       "  <thead>\n",
       "    <tr style=\"text-align: right;\">\n",
       "      <th></th>\n",
       "      <th>actual</th>\n",
       "      <th>predicted</th>\n",
       "    </tr>\n",
       "  </thead>\n",
       "  <tbody>\n",
       "    <tr>\n",
       "      <th>521</th>\n",
       "      <td>3</td>\n",
       "      <td>0</td>\n",
       "    </tr>\n",
       "    <tr>\n",
       "      <th>737</th>\n",
       "      <td>3</td>\n",
       "      <td>3</td>\n",
       "    </tr>\n",
       "    <tr>\n",
       "      <th>740</th>\n",
       "      <td>0</td>\n",
       "      <td>2</td>\n",
       "    </tr>\n",
       "    <tr>\n",
       "      <th>660</th>\n",
       "      <td>3</td>\n",
       "      <td>3</td>\n",
       "    </tr>\n",
       "    <tr>\n",
       "      <th>411</th>\n",
       "      <td>3</td>\n",
       "      <td>3</td>\n",
       "    </tr>\n",
       "    <tr>\n",
       "      <th>...</th>\n",
       "      <td>...</td>\n",
       "      <td>...</td>\n",
       "    </tr>\n",
       "    <tr>\n",
       "      <th>408</th>\n",
       "      <td>3</td>\n",
       "      <td>3</td>\n",
       "    </tr>\n",
       "    <tr>\n",
       "      <th>332</th>\n",
       "      <td>3</td>\n",
       "      <td>3</td>\n",
       "    </tr>\n",
       "    <tr>\n",
       "      <th>208</th>\n",
       "      <td>2</td>\n",
       "      <td>3</td>\n",
       "    </tr>\n",
       "    <tr>\n",
       "      <th>613</th>\n",
       "      <td>3</td>\n",
       "      <td>2</td>\n",
       "    </tr>\n",
       "    <tr>\n",
       "      <th>78</th>\n",
       "      <td>1</td>\n",
       "      <td>1</td>\n",
       "    </tr>\n",
       "  </tbody>\n",
       "</table>\n",
       "<p>200 rows × 2 columns</p>\n",
       "</div>"
      ],
      "text/plain": [
       "     actual  predicted\n",
       "521       3          0\n",
       "737       3          3\n",
       "740       0          2\n",
       "660       3          3\n",
       "411       3          3\n",
       "..      ...        ...\n",
       "408       3          3\n",
       "332       3          3\n",
       "208       2          3\n",
       "613       3          2\n",
       "78        1          1\n",
       "\n",
       "[200 rows x 2 columns]"
      ]
     },
     "execution_count": 112,
     "metadata": {},
     "output_type": "execute_result"
    }
   ],
   "source": [
    "our_prediction"
   ]
  },
  {
   "cell_type": "code",
   "execution_count": 113,
   "id": "85bb81aa",
   "metadata": {},
   "outputs": [
    {
     "name": "stderr",
     "output_type": "stream",
     "text": [
      "C:\\Users\\Vijay\\AppData\\Local\\Temp\\ipykernel_17912\\171659837.py:2: DataConversionWarning: A column-vector y was passed when a 1d array was expected. Please change the shape of y to (n_samples,), for example using ravel().\n",
      "  rf.fit(X_train,Y_train)\n"
     ]
    }
   ],
   "source": [
    "rf=RandomForestClassifier(max_depth=100)\n",
    "rf.fit(X_train,Y_train)\n",
    "rf_pred=dt.predict(X_test)\n",
    "rf_acc=accuracy_score(Y_test,pred)\n"
   ]
  },
  {
   "cell_type": "code",
   "execution_count": 114,
   "id": "c46a57f9",
   "metadata": {},
   "outputs": [
    {
     "data": {
      "text/plain": [
       "0.805"
      ]
     },
     "execution_count": 114,
     "metadata": {},
     "output_type": "execute_result"
    }
   ],
   "source": [
    "rf_acc"
   ]
  },
  {
   "cell_type": "code",
   "execution_count": 115,
   "id": "bed66219",
   "metadata": {},
   "outputs": [],
   "source": [
    "our_prediction1 = pd.DataFrame({\"actual\":Y_test.squeeze(),\"predicted\":rf_pred.squeeze()})"
   ]
  },
  {
   "cell_type": "code",
   "execution_count": 116,
   "id": "27be58ca",
   "metadata": {},
   "outputs": [
    {
     "data": {
      "text/html": [
       "<div>\n",
       "<style scoped>\n",
       "    .dataframe tbody tr th:only-of-type {\n",
       "        vertical-align: middle;\n",
       "    }\n",
       "\n",
       "    .dataframe tbody tr th {\n",
       "        vertical-align: top;\n",
       "    }\n",
       "\n",
       "    .dataframe thead th {\n",
       "        text-align: right;\n",
       "    }\n",
       "</style>\n",
       "<table border=\"1\" class=\"dataframe\">\n",
       "  <thead>\n",
       "    <tr style=\"text-align: right;\">\n",
       "      <th></th>\n",
       "      <th>actual</th>\n",
       "      <th>predicted</th>\n",
       "    </tr>\n",
       "  </thead>\n",
       "  <tbody>\n",
       "    <tr>\n",
       "      <th>521</th>\n",
       "      <td>3</td>\n",
       "      <td>0</td>\n",
       "    </tr>\n",
       "    <tr>\n",
       "      <th>737</th>\n",
       "      <td>3</td>\n",
       "      <td>3</td>\n",
       "    </tr>\n",
       "    <tr>\n",
       "      <th>740</th>\n",
       "      <td>0</td>\n",
       "      <td>2</td>\n",
       "    </tr>\n",
       "    <tr>\n",
       "      <th>660</th>\n",
       "      <td>3</td>\n",
       "      <td>3</td>\n",
       "    </tr>\n",
       "    <tr>\n",
       "      <th>411</th>\n",
       "      <td>3</td>\n",
       "      <td>3</td>\n",
       "    </tr>\n",
       "    <tr>\n",
       "      <th>...</th>\n",
       "      <td>...</td>\n",
       "      <td>...</td>\n",
       "    </tr>\n",
       "    <tr>\n",
       "      <th>408</th>\n",
       "      <td>3</td>\n",
       "      <td>3</td>\n",
       "    </tr>\n",
       "    <tr>\n",
       "      <th>332</th>\n",
       "      <td>3</td>\n",
       "      <td>3</td>\n",
       "    </tr>\n",
       "    <tr>\n",
       "      <th>208</th>\n",
       "      <td>2</td>\n",
       "      <td>3</td>\n",
       "    </tr>\n",
       "    <tr>\n",
       "      <th>613</th>\n",
       "      <td>3</td>\n",
       "      <td>2</td>\n",
       "    </tr>\n",
       "    <tr>\n",
       "      <th>78</th>\n",
       "      <td>1</td>\n",
       "      <td>1</td>\n",
       "    </tr>\n",
       "  </tbody>\n",
       "</table>\n",
       "<p>200 rows × 2 columns</p>\n",
       "</div>"
      ],
      "text/plain": [
       "     actual  predicted\n",
       "521       3          0\n",
       "737       3          3\n",
       "740       0          2\n",
       "660       3          3\n",
       "411       3          3\n",
       "..      ...        ...\n",
       "408       3          3\n",
       "332       3          3\n",
       "208       2          3\n",
       "613       3          2\n",
       "78        1          1\n",
       "\n",
       "[200 rows x 2 columns]"
      ]
     },
     "execution_count": 116,
     "metadata": {},
     "output_type": "execute_result"
    }
   ],
   "source": [
    "our_prediction1"
   ]
  },
  {
   "cell_type": "code",
   "execution_count": 117,
   "id": "60fad991",
   "metadata": {},
   "outputs": [
    {
     "data": {
      "text/html": [
       "<div>\n",
       "<style scoped>\n",
       "    .dataframe tbody tr th:only-of-type {\n",
       "        vertical-align: middle;\n",
       "    }\n",
       "\n",
       "    .dataframe tbody tr th {\n",
       "        vertical-align: top;\n",
       "    }\n",
       "\n",
       "    .dataframe thead th {\n",
       "        text-align: right;\n",
       "    }\n",
       "</style>\n",
       "<table border=\"1\" class=\"dataframe\">\n",
       "  <thead>\n",
       "    <tr style=\"text-align: right;\">\n",
       "      <th></th>\n",
       "      <th>Name</th>\n",
       "      <th>Sex</th>\n",
       "      <th>Age</th>\n",
       "      <th>Height</th>\n",
       "      <th>Weight</th>\n",
       "      <th>Team</th>\n",
       "      <th>Games</th>\n",
       "      <th>Season</th>\n",
       "      <th>Event</th>\n",
       "      <th>Medal</th>\n",
       "    </tr>\n",
       "  </thead>\n",
       "  <tbody>\n",
       "    <tr>\n",
       "      <th>0</th>\n",
       "      <td>A Dijiang</td>\n",
       "      <td>1</td>\n",
       "      <td>24.0</td>\n",
       "      <td>180.000000</td>\n",
       "      <td>80.000000</td>\n",
       "      <td>17</td>\n",
       "      <td>32</td>\n",
       "      <td>0</td>\n",
       "      <td>55</td>\n",
       "      <td>3</td>\n",
       "    </tr>\n",
       "    <tr>\n",
       "      <th>1</th>\n",
       "      <td>A Lamusi</td>\n",
       "      <td>1</td>\n",
       "      <td>23.0</td>\n",
       "      <td>170.000000</td>\n",
       "      <td>60.000000</td>\n",
       "      <td>17</td>\n",
       "      <td>43</td>\n",
       "      <td>0</td>\n",
       "      <td>145</td>\n",
       "      <td>3</td>\n",
       "    </tr>\n",
       "    <tr>\n",
       "      <th>2</th>\n",
       "      <td>Gunnar Nielsen Aaby</td>\n",
       "      <td>1</td>\n",
       "      <td>24.0</td>\n",
       "      <td>175.912351</td>\n",
       "      <td>71.814153</td>\n",
       "      <td>24</td>\n",
       "      <td>4</td>\n",
       "      <td>0</td>\n",
       "      <td>120</td>\n",
       "      <td>3</td>\n",
       "    </tr>\n",
       "    <tr>\n",
       "      <th>3</th>\n",
       "      <td>Edgar Lindenau Aabye</td>\n",
       "      <td>1</td>\n",
       "      <td>34.0</td>\n",
       "      <td>175.912351</td>\n",
       "      <td>71.814153</td>\n",
       "      <td>25</td>\n",
       "      <td>0</td>\n",
       "      <td>0</td>\n",
       "      <td>236</td>\n",
       "      <td>1</td>\n",
       "    </tr>\n",
       "    <tr>\n",
       "      <th>4</th>\n",
       "      <td>Christine Jacoba Aaftink</td>\n",
       "      <td>0</td>\n",
       "      <td>21.0</td>\n",
       "      <td>185.000000</td>\n",
       "      <td>82.000000</td>\n",
       "      <td>66</td>\n",
       "      <td>31</td>\n",
       "      <td>1</td>\n",
       "      <td>201</td>\n",
       "      <td>3</td>\n",
       "    </tr>\n",
       "    <tr>\n",
       "      <th>...</th>\n",
       "      <td>...</td>\n",
       "      <td>...</td>\n",
       "      <td>...</td>\n",
       "      <td>...</td>\n",
       "      <td>...</td>\n",
       "      <td>...</td>\n",
       "      <td>...</td>\n",
       "      <td>...</td>\n",
       "      <td>...</td>\n",
       "      <td>...</td>\n",
       "    </tr>\n",
       "    <tr>\n",
       "      <th>995</th>\n",
       "      <td>Thomas Abratis</td>\n",
       "      <td>1</td>\n",
       "      <td>26.0</td>\n",
       "      <td>184.000000</td>\n",
       "      <td>73.000000</td>\n",
       "      <td>37</td>\n",
       "      <td>34</td>\n",
       "      <td>1</td>\n",
       "      <td>155</td>\n",
       "      <td>3</td>\n",
       "    </tr>\n",
       "    <tr>\n",
       "      <th>996</th>\n",
       "      <td>Thomas Abratis</td>\n",
       "      <td>1</td>\n",
       "      <td>26.0</td>\n",
       "      <td>184.000000</td>\n",
       "      <td>73.000000</td>\n",
       "      <td>37</td>\n",
       "      <td>34</td>\n",
       "      <td>1</td>\n",
       "      <td>154</td>\n",
       "      <td>3</td>\n",
       "    </tr>\n",
       "    <tr>\n",
       "      <th>997</th>\n",
       "      <td>Pawe Abratkiewicz</td>\n",
       "      <td>1</td>\n",
       "      <td>21.0</td>\n",
       "      <td>183.000000</td>\n",
       "      <td>84.000000</td>\n",
       "      <td>77</td>\n",
       "      <td>33</td>\n",
       "      <td>1</td>\n",
       "      <td>198</td>\n",
       "      <td>3</td>\n",
       "    </tr>\n",
       "    <tr>\n",
       "      <th>998</th>\n",
       "      <td>Pawe Abratkiewicz</td>\n",
       "      <td>1</td>\n",
       "      <td>21.0</td>\n",
       "      <td>183.000000</td>\n",
       "      <td>84.000000</td>\n",
       "      <td>77</td>\n",
       "      <td>33</td>\n",
       "      <td>1</td>\n",
       "      <td>194</td>\n",
       "      <td>3</td>\n",
       "    </tr>\n",
       "    <tr>\n",
       "      <th>999</th>\n",
       "      <td>Pawe Abratkiewicz</td>\n",
       "      <td>1</td>\n",
       "      <td>27.0</td>\n",
       "      <td>183.000000</td>\n",
       "      <td>84.000000</td>\n",
       "      <td>77</td>\n",
       "      <td>36</td>\n",
       "      <td>1</td>\n",
       "      <td>198</td>\n",
       "      <td>3</td>\n",
       "    </tr>\n",
       "  </tbody>\n",
       "</table>\n",
       "<p>1000 rows × 10 columns</p>\n",
       "</div>"
      ],
      "text/plain": [
       "                         Name  Sex   Age      Height     Weight  Team  Games  \\\n",
       "0                   A Dijiang    1  24.0  180.000000  80.000000    17     32   \n",
       "1                    A Lamusi    1  23.0  170.000000  60.000000    17     43   \n",
       "2         Gunnar Nielsen Aaby    1  24.0  175.912351  71.814153    24      4   \n",
       "3        Edgar Lindenau Aabye    1  34.0  175.912351  71.814153    25      0   \n",
       "4    Christine Jacoba Aaftink    0  21.0  185.000000  82.000000    66     31   \n",
       "..                        ...  ...   ...         ...        ...   ...    ...   \n",
       "995            Thomas Abratis    1  26.0  184.000000  73.000000    37     34   \n",
       "996            Thomas Abratis    1  26.0  184.000000  73.000000    37     34   \n",
       "997         Pawe Abratkiewicz    1  21.0  183.000000  84.000000    77     33   \n",
       "998         Pawe Abratkiewicz    1  21.0  183.000000  84.000000    77     33   \n",
       "999         Pawe Abratkiewicz    1  27.0  183.000000  84.000000    77     36   \n",
       "\n",
       "     Season  Event  Medal  \n",
       "0         0     55      3  \n",
       "1         0    145      3  \n",
       "2         0    120      3  \n",
       "3         0    236      1  \n",
       "4         1    201      3  \n",
       "..      ...    ...    ...  \n",
       "995       1    155      3  \n",
       "996       1    154      3  \n",
       "997       1    198      3  \n",
       "998       1    194      3  \n",
       "999       1    198      3  \n",
       "\n",
       "[1000 rows x 10 columns]"
      ]
     },
     "execution_count": 117,
     "metadata": {},
     "output_type": "execute_result"
    }
   ],
   "source": [
    "new"
   ]
  },
  {
   "cell_type": "code",
   "execution_count": 149,
   "id": "bc393723",
   "metadata": {},
   "outputs": [
    {
     "name": "stdout",
     "output_type": "stream",
     "text": [
      "enter the gender 0\n",
      "enter the age :35\n",
      "enter the Height :175\n",
      "enter the Weight :76\n",
      "enter the Team :8\n",
      "enter the Games : 4\n",
      "enter the Season :1\n",
      "enter the season :220\n"
     ]
    }
   ],
   "source": [
    "Sex = int(input(\"enter the gender \"))\n",
    "Age = int(input(\"enter the age :\"))\n",
    "Height = float(input(\"enter the Height :\"))\n",
    "Weight = float(input(\"enter the Weight :\"))\n",
    "Team = int(input(\"enter the Team :\"))\n",
    "Games = int(input(\"enter the Games : \"))\n",
    "Season = int(input(\"enter the Season :\"))\n",
    "Event = int(input(\"enter the season :\"))"
   ]
  },
  {
   "cell_type": "code",
   "execution_count": 150,
   "id": "d033532d",
   "metadata": {},
   "outputs": [],
   "source": [
    "result = [[Sex,Age,Height,Weight,Team,Games,Season,Event]]"
   ]
  },
  {
   "cell_type": "code",
   "execution_count": 151,
   "id": "1e502c4e",
   "metadata": {},
   "outputs": [
    {
     "data": {
      "text/plain": [
       "[[0, 35, 175.0, 76.0, 8, 4, 1, 220]]"
      ]
     },
     "execution_count": 151,
     "metadata": {},
     "output_type": "execute_result"
    }
   ],
   "source": [
    "result"
   ]
  },
  {
   "cell_type": "code",
   "execution_count": 152,
   "id": "35690aba",
   "metadata": {},
   "outputs": [
    {
     "name": "stderr",
     "output_type": "stream",
     "text": [
      "C:\\Users\\Vijay\\anaconda3\\lib\\site-packages\\sklearn\\base.py:450: UserWarning: X does not have valid feature names, but RandomForestClassifier was fitted with feature names\n",
      "  warnings.warn(\n"
     ]
    }
   ],
   "source": [
    "prediction = rf.predict(result)"
   ]
  },
  {
   "cell_type": "code",
   "execution_count": 153,
   "id": "ed8c3f64",
   "metadata": {},
   "outputs": [
    {
     "data": {
      "text/plain": [
       "array([3])"
      ]
     },
     "execution_count": 153,
     "metadata": {},
     "output_type": "execute_result"
    }
   ],
   "source": [
    "prediction"
   ]
  },
  {
   "cell_type": "code",
   "execution_count": null,
   "id": "8b982480",
   "metadata": {},
   "outputs": [],
   "source": []
  }
 ],
 "metadata": {
  "kernelspec": {
   "display_name": "Python 3 (ipykernel)",
   "language": "python",
   "name": "python3"
  },
  "language_info": {
   "codemirror_mode": {
    "name": "ipython",
    "version": 3
   },
   "file_extension": ".py",
   "mimetype": "text/x-python",
   "name": "python",
   "nbconvert_exporter": "python",
   "pygments_lexer": "ipython3",
   "version": "3.9.12"
  },
  "vscode": {
   "interpreter": {
    "hash": "07d5a32a57a9b95007a05b5fb942622f50d5b6ab19394e9088a86b13b6e5a95b"
   }
  }
 },
 "nbformat": 4,
 "nbformat_minor": 5
}
